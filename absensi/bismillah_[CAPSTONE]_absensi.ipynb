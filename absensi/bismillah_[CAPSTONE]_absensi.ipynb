{
 "cells": [
  {
   "cell_type": "markdown",
   "metadata": {
    "id": "5wCE1VUJJE_S"
   },
   "source": [
    "# Sistem Prediksi Keterlambatan Karyawan dengan Integrasi Data Cuaca\n",
    "\n",
    "Notebook ini mengimplementasikan sistem prediksi keterlambatan karyawan yang mempertimbangkan:\n",
    "1. Data historis kehadiran karyawan\n",
    "2. Kondisi cuaca real-time dari OpenWeather API\n",
    "3. Model machine learning berbasis PyTorch\n",
    "4. Aturan toleransi berbasis cuaca (5 menit untuk hujan, 1 menit untuk cerah)\n",
    "\n",
    "Proses yang dilakukan:\n",
    "1. Persiapan dan pembersihan data\n",
    "2. Feature engineering\n",
    "3. Pembuatan dan pelatihan model\n",
    "4. Implementasi API untuk prediksi real-time\n",
    "5. Integrasi dengan sistem geolokasi\n",
    "\n",
    "Kasus penggunaan:\n",
    "- Memprediksi kemungkinan keterlambatan karyawan\n",
    "- Memberikan toleransi waktu berdasarkan cuaca\n",
    "- Memvalidasi lokasi kehadiran karyawan"
   ]
  },
  {
   "cell_type": "markdown",
   "metadata": {
    "id": "siqFDkSrJNv9"
   },
   "source": [
    "# 1. Import Library dan Konfigurasi API\n"
   ]
  },
  {
   "cell_type": "markdown",
   "metadata": {
    "id": "uTrQ1PTIJOSa"
   },
   "source": [
    "## 1.1 Import Library yang Diperlukan\n",
    "- pandas & numpy: untuk manipulasi data\n",
    "- requests: untuk mengambil data cuaca dari API\n",
    "- sklearn: untuk preprocessing data dan evaluasi model\n",
    "- tensorflow: untuk membuat dan melatih model neural network\n",
    "- flask: untuk membuat API endpoint\n",
    "- geopy: untuk perhitungan jarak geografis"
   ]
  },
  {
   "cell_type": "code",
   "execution_count": 68,
   "metadata": {
    "colab": {
     "base_uri": "https://localhost:8080/",
     "height": 70
    },
    "id": "cwsM5JxqBKG9",
    "outputId": "7932bae0-186a-4e5d-ac7f-190e4b476443"
   },
   "outputs": [
    {
     "data": {
      "text/plain": [
       "'\\n{\\n    \"message\": \"Absence recorded successfully\",\\n    \"data\": {\\n        \"id\": 1,\\n        \"id_karyawan\": 1,\\n        \"nama_karyawan\": \"Staff Baru\",\\n        \"tanggal\": \"2025-06-08T00:00:00Z\",\\n        \"jam_masuk\": \"17:15:03\",\\n        \"jam_jadwal\": \"09:00:00\",\\n        \"terlambat\": true,\\n        \"cuaca\": \"Clouds\",\\n        \"latitude\": -8.1178,\\n        \"longitude\": 115.0919,\\n        \"hari\": \"Sunday\",\\n        \"created_at\": \"2025-06-08T17:15:03.176529Z\"\\n    }\\n}\\n'"
      ]
     },
     "execution_count": 68,
     "metadata": {},
     "output_type": "execute_result"
    }
   ],
   "source": [
    "import pandas as pd\n",
    "import numpy as np\n",
    "import tensorflow as tf\n",
    "from tensorflow.keras import layers, models\n",
    "from sklearn.model_selection import train_test_split\n",
    "from sklearn.preprocessing import StandardScaler\n",
    "import joblib\n",
    "import json\n",
    "import datetime\n",
    "import matplotlib.pyplot as plt\n",
    "import seaborn as sns\n",
    "import os\n",
    "\n",
    "# Data structure example from backend:\n",
    "\"\"\"\n",
    "{\n",
    "    \"message\": \"Absence recorded successfully\",\n",
    "    \"data\": {\n",
    "        \"id\": 1,\n",
    "        \"id_karyawan\": 1,\n",
    "        \"nama_karyawan\": \"Staff Baru\",\n",
    "        \"tanggal\": \"2025-06-08T00:00:00Z\",\n",
    "        \"jam_masuk\": \"17:15:03\",\n",
    "        \"jam_jadwal\": \"09:00:00\",\n",
    "        \"terlambat\": true,\n",
    "        \"cuaca\": \"Clouds\",\n",
    "        \"latitude\": -8.1178,\n",
    "        \"longitude\": 115.0919,\n",
    "        \"hari\": \"Sunday\",\n",
    "        \"created_at\": \"2025-06-08T17:15:03.176529Z\"\n",
    "    }\n",
    "}\n",
    "\"\"\""
   ]
  },
  {
   "cell_type": "markdown",
   "metadata": {
    "id": "hNEkpM1DLepf"
   },
   "source": [
    "#2. Data Loading\n"
   ]
  },
  {
   "cell_type": "markdown",
   "metadata": {
    "id": "_sDcK1MzLfGB"
   },
   "source": [
    "## 2.1 Load Dataset\n",
    "- Membaca file CSV absensi\n",
    "- Mengkonversi kolom tanggal dan waktu ke format yang sesuai\n",
    "- Menyiapkan fungsi untuk mengambil data cuaca\n",
    "\n",
    "Input data yang digunakan:\n",
    "- tanggal: tanggal kehadiran\n",
    "- jam_masuk: waktu kedatangan karyawan\n",
    "- jam_jadwal: waktu yang dijadwalkan\n",
    "- cuaca: kondisi cuaca saat itu\n",
    "- terlambat: status keterlambatan (1 = terlambat, 0 = tepat waktu)\n",
    "- hari : hari saat itu"
   ]
  },
  {
   "cell_type": "code",
   "execution_count": 69,
   "metadata": {
    "colab": {
     "base_uri": "https://localhost:8080/",
     "height": 206
    },
    "id": "F5EJunS1FsvV",
    "outputId": "480d3ae8-4c34-47e4-9c06-06762d4d4e15"
   },
   "outputs": [
    {
     "data": {
      "text/html": [
       "<div>\n",
       "<style scoped>\n",
       "    .dataframe tbody tr th:only-of-type {\n",
       "        vertical-align: middle;\n",
       "    }\n",
       "\n",
       "    .dataframe tbody tr th {\n",
       "        vertical-align: top;\n",
       "    }\n",
       "\n",
       "    .dataframe thead th {\n",
       "        text-align: right;\n",
       "    }\n",
       "</style>\n",
       "<table border=\"1\" class=\"dataframe\">\n",
       "  <thead>\n",
       "    <tr style=\"text-align: right;\">\n",
       "      <th></th>\n",
       "      <th>tanggal</th>\n",
       "      <th>id_karyawan</th>\n",
       "      <th>nama_karyawan</th>\n",
       "      <th>jam_masuk</th>\n",
       "      <th>jam_jadwal</th>\n",
       "      <th>terlambat</th>\n",
       "      <th>cuaca</th>\n",
       "      <th>hari</th>\n",
       "    </tr>\n",
       "  </thead>\n",
       "  <tbody>\n",
       "    <tr>\n",
       "      <th>0</th>\n",
       "      <td>2024-05-21</td>\n",
       "      <td>9</td>\n",
       "      <td>Karyawan_9</td>\n",
       "      <td>08:34</td>\n",
       "      <td>08:00</td>\n",
       "      <td>1</td>\n",
       "      <td>Hujan</td>\n",
       "      <td>Tuesday</td>\n",
       "    </tr>\n",
       "    <tr>\n",
       "      <th>1</th>\n",
       "      <td>2024-04-01</td>\n",
       "      <td>12</td>\n",
       "      <td>Karyawan_12</td>\n",
       "      <td>08:41</td>\n",
       "      <td>08:00</td>\n",
       "      <td>1</td>\n",
       "      <td>Berawan</td>\n",
       "      <td>Monday</td>\n",
       "    </tr>\n",
       "    <tr>\n",
       "      <th>2</th>\n",
       "      <td>2024-06-24</td>\n",
       "      <td>8</td>\n",
       "      <td>Karyawan_8</td>\n",
       "      <td>08:06</td>\n",
       "      <td>08:00</td>\n",
       "      <td>1</td>\n",
       "      <td>Cerah</td>\n",
       "      <td>Monday</td>\n",
       "    </tr>\n",
       "    <tr>\n",
       "      <th>3</th>\n",
       "      <td>2024-03-02</td>\n",
       "      <td>11</td>\n",
       "      <td>Karyawan_11</td>\n",
       "      <td>07:56</td>\n",
       "      <td>08:00</td>\n",
       "      <td>0</td>\n",
       "      <td>Hujan</td>\n",
       "      <td>Saturday</td>\n",
       "    </tr>\n",
       "    <tr>\n",
       "      <th>4</th>\n",
       "      <td>2024-06-07</td>\n",
       "      <td>15</td>\n",
       "      <td>Karyawan_15</td>\n",
       "      <td>08:55</td>\n",
       "      <td>08:00</td>\n",
       "      <td>1</td>\n",
       "      <td>Hujan</td>\n",
       "      <td>Friday</td>\n",
       "    </tr>\n",
       "  </tbody>\n",
       "</table>\n",
       "</div>"
      ],
      "text/plain": [
       "      tanggal  id_karyawan nama_karyawan jam_masuk jam_jadwal  terlambat  \\\n",
       "0  2024-05-21            9    Karyawan_9     08:34      08:00          1   \n",
       "1  2024-04-01           12   Karyawan_12     08:41      08:00          1   \n",
       "2  2024-06-24            8    Karyawan_8     08:06      08:00          1   \n",
       "3  2024-03-02           11   Karyawan_11     07:56      08:00          0   \n",
       "4  2024-06-07           15   Karyawan_15     08:55      08:00          1   \n",
       "\n",
       "     cuaca      hari  \n",
       "0    Hujan   Tuesday  \n",
       "1  Berawan    Monday  \n",
       "2    Cerah    Monday  \n",
       "3    Hujan  Saturday  \n",
       "4    Hujan    Friday  "
      ]
     },
     "execution_count": 69,
     "metadata": {},
     "output_type": "execute_result"
    }
   ],
   "source": [
    "# Load attendance data\n",
    "df = pd.read_csv('c:/Users/Asus/OneDrive - student.gunadarma.ac.id/Documents/DICODING/DBS/CAPSTONE/modeling/datasets/[3] clean/clean_absensi.csv')\n",
    "\n",
    "df.head()"
   ]
  },
  {
   "cell_type": "code",
   "execution_count": 70,
   "metadata": {
    "colab": {
     "base_uri": "https://localhost:8080/",
     "height": 300
    },
    "id": "HXYmFQgjWwRq",
    "outputId": "d4b85805-ea57-4038-d762-ad8b7486098a"
   },
   "outputs": [
    {
     "data": {
      "text/html": [
       "<div>\n",
       "<style scoped>\n",
       "    .dataframe tbody tr th:only-of-type {\n",
       "        vertical-align: middle;\n",
       "    }\n",
       "\n",
       "    .dataframe tbody tr th {\n",
       "        vertical-align: top;\n",
       "    }\n",
       "\n",
       "    .dataframe thead th {\n",
       "        text-align: right;\n",
       "    }\n",
       "</style>\n",
       "<table border=\"1\" class=\"dataframe\">\n",
       "  <thead>\n",
       "    <tr style=\"text-align: right;\">\n",
       "      <th></th>\n",
       "      <th>id_karyawan</th>\n",
       "      <th>terlambat</th>\n",
       "    </tr>\n",
       "  </thead>\n",
       "  <tbody>\n",
       "    <tr>\n",
       "      <th>count</th>\n",
       "      <td>2000.000000</td>\n",
       "      <td>2000.000000</td>\n",
       "    </tr>\n",
       "    <tr>\n",
       "      <th>mean</th>\n",
       "      <td>10.619000</td>\n",
       "      <td>0.794000</td>\n",
       "    </tr>\n",
       "    <tr>\n",
       "      <th>std</th>\n",
       "      <td>5.732213</td>\n",
       "      <td>0.404532</td>\n",
       "    </tr>\n",
       "    <tr>\n",
       "      <th>min</th>\n",
       "      <td>1.000000</td>\n",
       "      <td>0.000000</td>\n",
       "    </tr>\n",
       "    <tr>\n",
       "      <th>25%</th>\n",
       "      <td>6.000000</td>\n",
       "      <td>1.000000</td>\n",
       "    </tr>\n",
       "    <tr>\n",
       "      <th>50%</th>\n",
       "      <td>11.000000</td>\n",
       "      <td>1.000000</td>\n",
       "    </tr>\n",
       "    <tr>\n",
       "      <th>75%</th>\n",
       "      <td>16.000000</td>\n",
       "      <td>1.000000</td>\n",
       "    </tr>\n",
       "    <tr>\n",
       "      <th>max</th>\n",
       "      <td>20.000000</td>\n",
       "      <td>1.000000</td>\n",
       "    </tr>\n",
       "  </tbody>\n",
       "</table>\n",
       "</div>"
      ],
      "text/plain": [
       "       id_karyawan    terlambat\n",
       "count  2000.000000  2000.000000\n",
       "mean     10.619000     0.794000\n",
       "std       5.732213     0.404532\n",
       "min       1.000000     0.000000\n",
       "25%       6.000000     1.000000\n",
       "50%      11.000000     1.000000\n",
       "75%      16.000000     1.000000\n",
       "max      20.000000     1.000000"
      ]
     },
     "execution_count": 70,
     "metadata": {},
     "output_type": "execute_result"
    }
   ],
   "source": [
    "df.describe()"
   ]
  },
  {
   "cell_type": "markdown",
   "metadata": {
    "id": "6U5G2uWsTz1T"
   },
   "source": [
    "# 3. Data Preparation\n",
    "\n",
    "Melakukan pembersihan data:\n",
    "1. Mengecek missing values\n",
    "2. Mengecek dan menangani data duplikat\n",
    "3. Mengecek distribusi data\n",
    "4. Menangani outliers jika ada"
   ]
  },
  {
   "cell_type": "markdown",
   "metadata": {
    "id": "f9QcxoTzQTaX"
   },
   "source": [
    "## 3.1 Missing Values Check\n"
   ]
  },
  {
   "cell_type": "code",
   "execution_count": 71,
   "metadata": {
    "colab": {
     "base_uri": "https://localhost:8080/"
    },
    "id": "3uzWEZ6DQW8V",
    "outputId": "d8f6a575-66d1-4f0b-f900-931b0a50a518"
   },
   "outputs": [
    {
     "name": "stdout",
     "output_type": "stream",
     "text": [
      "=== Missing Values Check ===\n",
      "tanggal          0\n",
      "id_karyawan      0\n",
      "nama_karyawan    0\n",
      "jam_masuk        0\n",
      "jam_jadwal       0\n",
      "terlambat        0\n",
      "cuaca            0\n",
      "hari             0\n",
      "dtype: int64\n"
     ]
    }
   ],
   "source": [
    "# 1. Missing Values Check\n",
    "print(\"=== Missing Values Check ===\")\n",
    "print(df.isnull().sum())"
   ]
  },
  {
   "cell_type": "markdown",
   "metadata": {
    "id": "1SfKmoMMTOfO"
   },
   "source": [
    "## 3.2 Handle Data Duplicate"
   ]
  },
  {
   "cell_type": "code",
   "execution_count": 72,
   "metadata": {
    "colab": {
     "base_uri": "https://localhost:8080/"
    },
    "id": "ncYh2tlhF0xq",
    "outputId": "8b73e995-5fbe-4fc7-cf99-7a66c1c3c117"
   },
   "outputs": [
    {
     "name": "stdout",
     "output_type": "stream",
     "text": [
      "\n",
      "=== Duplicate Check ===\n",
      "0\n"
     ]
    }
   ],
   "source": [
    "print(\"\\n=== Duplicate Check ===\")\n",
    "print(df.duplicated().sum())"
   ]
  },
  {
   "cell_type": "markdown",
   "metadata": {
    "id": "OQFuOHNFUzJw"
   },
   "source": [
    "## 3.3 Mengubah Tipe Data\n"
   ]
  },
  {
   "cell_type": "code",
   "execution_count": 73,
   "metadata": {
    "colab": {
     "base_uri": "https://localhost:8080/"
    },
    "id": "DChHUoYeVC4O",
    "outputId": "e9c08739-f572-42b9-8a61-5aad209f76d2"
   },
   "outputs": [
    {
     "name": "stdout",
     "output_type": "stream",
     "text": [
      "<class 'pandas.core.frame.DataFrame'>\n",
      "RangeIndex: 2000 entries, 0 to 1999\n",
      "Data columns (total 8 columns):\n",
      " #   Column         Non-Null Count  Dtype         \n",
      "---  ------         --------------  -----         \n",
      " 0   tanggal        2000 non-null   datetime64[ns]\n",
      " 1   id_karyawan    2000 non-null   int64         \n",
      " 2   nama_karyawan  2000 non-null   object        \n",
      " 3   jam_masuk      2000 non-null   datetime64[ns]\n",
      " 4   jam_jadwal     2000 non-null   datetime64[ns]\n",
      " 5   terlambat      2000 non-null   int64         \n",
      " 6   cuaca          2000 non-null   object        \n",
      " 7   hari           2000 non-null   object        \n",
      "dtypes: datetime64[ns](3), int64(2), object(3)\n",
      "memory usage: 125.1+ KB\n"
     ]
    }
   ],
   "source": [
    "# Convert time columns to datetime\n",
    "df['tanggal'] = pd.to_datetime(df['tanggal'])\n",
    "df['jam_masuk'] = pd.to_datetime(df['jam_masuk'], format='%H:%M')\n",
    "df['jam_jadwal'] = pd.to_datetime(df['jam_jadwal'], format='%H:%M')\n",
    "\n",
    "df.info()"
   ]
  },
  {
   "cell_type": "markdown",
   "metadata": {
    "id": "fjshNDLbWSgs"
   },
   "source": [
    "## 3.4 Data Distribution\n"
   ]
  },
  {
   "cell_type": "code",
   "execution_count": 74,
   "metadata": {
    "colab": {
     "base_uri": "https://localhost:8080/"
    },
    "id": "WfIV_OKuUvTw",
    "outputId": "5b0481c4-784b-4dd4-ae2d-ab5c997293bb"
   },
   "outputs": [
    {
     "name": "stdout",
     "output_type": "stream",
     "text": [
      "\n",
      "=== Data Distribution ===\n",
      "\n",
      "Weather distribution:\n",
      "cuaca\n",
      "Hujan      708\n",
      "Berawan    682\n",
      "Cerah      610\n",
      "Name: count, dtype: int64\n",
      "\n",
      "Day of week distribution:\n",
      "tanggal\n",
      "0    313\n",
      "1    286\n",
      "2    289\n",
      "3    281\n",
      "4    277\n",
      "5    287\n",
      "6    267\n",
      "Name: count, dtype: int64\n",
      "\n",
      "Late vs On-time distribution:\n",
      "terlambat\n",
      "1    1588\n",
      "0     412\n",
      "Name: count, dtype: int64\n"
     ]
    }
   ],
   "source": [
    "print(\"\\n=== Data Distribution ===\")\n",
    "print(\"\\nWeather distribution:\")\n",
    "print(df['cuaca'].value_counts())\n",
    "\n",
    "print(\"\\nDay of week distribution:\")\n",
    "print(df['tanggal'].dt.dayofweek.value_counts().sort_index())\n",
    "\n",
    "print(\"\\nLate vs On-time distribution:\")\n",
    "print(df['terlambat'].value_counts())"
   ]
  },
  {
   "cell_type": "markdown",
   "metadata": {
    "id": "OQXSSwxFYIjQ"
   },
   "source": [
    "## 3.5 Prepare Features\n"
   ]
  },
  {
   "cell_type": "code",
   "execution_count": 75,
   "metadata": {
    "id": "cQU-j-03LpGS"
   },
   "outputs": [],
   "source": [
    "# Prepare features\n",
    "def prepare_features(df):\n",
    "    # 1. Time-based features\n",
    "    # Convert time to minutes since midnight\n",
    "    df['arrival_time'] = pd.to_datetime(df['jam_masuk'].astype(str)).dt.hour * 60 + pd.to_datetime(df['jam_masuk'].astype(str)).dt.minute\n",
    "    df['scheduled_time'] = pd.to_datetime(df['jam_jadwal'].astype(str)).dt.hour * 60 + pd.to_datetime(df['jam_jadwal'].astype(str)).dt.minute\n",
    "\n",
    "    # Time difference from scheduled time\n",
    "    df['time_diff'] = df['arrival_time'] - df['scheduled_time']\n",
    "\n",
    "    # 2. Day-based features\n",
    "    # Add day of week (0-6)\n",
    "    df['day_of_week'] = df['tanggal'].dt.dayofweek\n",
    "\n",
    "    # Is weekend\n",
    "    df['is_weekend'] = df['tanggal'].dt.dayofweek.isin([5, 6]).astype(int)\n",
    "\n",
    "    # Is Monday or Friday (typically problematic days)\n",
    "    df['is_monday'] = (df['tanggal'].dt.dayofweek == 0).astype(int)\n",
    "    df['is_friday'] = (df['tanggal'].dt.dayofweek == 4).astype(int)\n",
    "\n",
    "    # 3. Weather-based features\n",
    "    # Basic weather encoding\n",
    "    weather_map = {\n",
    "        'Cerah': 0,\n",
    "        'Berawan': 1,\n",
    "        'Hujan': 2,\n",
    "        'Thunderstorm': 3\n",
    "    }\n",
    "    df['weather_encoded'] = df['cuaca'].map(weather_map)\n",
    "\n",
    "    # One-hot encode weather\n",
    "    weather_dummies = pd.get_dummies(df['weather_encoded'], prefix='weather')\n",
    "    df = pd.concat([df, weather_dummies], axis=1)\n",
    "\n",
    "    # 4. Historical patterns\n",
    "    # Previous day's lateness (if available)\n",
    "    df['prev_day_late'] = df.sort_values('tanggal').groupby('id_karyawan')['terlambat'].shift(1).fillna(0)\n",
    "\n",
    "    # Rolling average of lateness (last 7 days)\n",
    "    df['late_7day_avg'] = df.sort_values('tanggal').groupby('id_karyawan')['terlambat'].rolling(window=7, min_periods=1).mean().reset_index(0, drop=True)\n",
    "\n",
    "    # 5. Define target\n",
    "    df['is_late'] = df['terlambat']\n",
    "\n",
    "    return df\n",
    "\n",
    "# Prepare the data\n",
    "df_prepared = prepare_features(df)\n",
    "\n"
   ]
  },
  {
   "cell_type": "code",
   "execution_count": 76,
   "metadata": {
    "colab": {
     "base_uri": "https://localhost:8080/",
     "height": 654
    },
    "id": "HFIlLmQah2p-",
    "outputId": "a2b6021d-9bf8-485b-a45f-55942cf16f5f"
   },
   "outputs": [
    {
     "data": {
      "image/png": "[encoded data removed]",
      "text/plain": [
       "<Figure size 800x600 with 2 Axes>"
      ]
     },
     "metadata": {},
     "output_type": "display_data"
    }
   ],
   "source": [
    "import seaborn as sns\n",
    "import matplotlib.pyplot as plt\n",
    "\n",
    "# Hitung korelasi\n",
    "df_numeric = df_prepared.select_dtypes(include=['number'])\n",
    "corr_matrix = df_numeric.corr()\n",
    "\n",
    "# Plot heatmap\n",
    "plt.figure(figsize=(8,6))\n",
    "sns.heatmap(corr_matrix, annot=True, cmap='coolwarm', fmt=\".2f\", linewidths=0.5)\n",
    "plt.title(\"Heatmap Korelasi Antar Variabel\")\n",
    "plt.show()"
   ]
  },
  {
   "cell_type": "code",
   "execution_count": 77,
   "metadata": {
    "colab": {
     "base_uri": "https://localhost:8080/"
    },
    "id": "9UxzD2imh2Ew",
    "outputId": "aae6aa78-fb2f-47b9-a808-97d1e973b465"
   },
   "outputs": [
    {
     "name": "stdout",
     "output_type": "stream",
     "text": [
      "\n",
      "=== Memilih Fitur ===\n",
      "Final selected features: ['day_of_week', 'scheduled_time', 'is_weekend', 'is_monday', 'is_friday', 'prev_day_late', 'late_7day_avg', 'weather_encoded', 'weather_0', 'weather_1', 'weather_2']\n",
      "Number of features: 11\n",
      "\n",
      "=== Sampel Data untuk Fitur yang Dipilih ===\n",
      "   day_of_week  scheduled_time  is_weekend  is_monday  is_friday  \\\n",
      "0            1             480           0          0          0   \n",
      "1            0             480           0          1          0   \n",
      "2            0             480           0          1          0   \n",
      "3            5             480           1          0          0   \n",
      "4            4             480           0          0          1   \n",
      "\n",
      "   prev_day_late  late_7day_avg  weather_encoded  weather_0  weather_1  \\\n",
      "0            1.0       0.857143                2      False      False   \n",
      "1            1.0       0.714286                1      False       True   \n",
      "2            1.0       1.000000                0       True      False   \n",
      "3            1.0       0.571429                2      False      False   \n",
      "4            1.0       0.857143                2      False      False   \n",
      "\n",
      "   weather_2  \n",
      "0       True  \n",
      "1      False  \n",
      "2      False  \n",
      "3       True  \n",
      "4       True  \n"
     ]
    }
   ],
   "source": [
    "# Select features for model\n",
    "print(\"\\n=== Memilih Fitur ===\")\n",
    "base_features = [\n",
    "    'day_of_week',\n",
    "    'scheduled_time',\n",
    "    'is_weekend',\n",
    "    'is_monday',\n",
    "    'is_friday',\n",
    "    'prev_day_late',\n",
    "    'late_7day_avg'\n",
    "]\n",
    "\n",
    "weather_columns = [col for col in df_prepared.columns if col.startswith('weather_')]\n",
    "features = base_features + weather_columns\n",
    "\n",
    "print(\"Final selected features:\", features)\n",
    "print(\"Number of features:\", len(features))\n",
    "\n",
    "# Display sample data for selected features\n",
    "print(\"\\n=== Sampel Data untuk Fitur yang Dipilih ===\")\n",
    "print(df_prepared[features].head())"
   ]
  },
  {
   "cell_type": "markdown",
   "metadata": {
    "id": "eEG6BTphYegl"
   },
   "source": [
    "## 3.6 Data Splitting\n"
   ]
  },
  {
   "cell_type": "code",
   "execution_count": 78,
   "metadata": {
    "id": "cHGMfpz0YQyP"
   },
   "outputs": [],
   "source": [
    "features = ['scheduled_time', 'arrival_time', 'day_of_week', 'is_monday', 'is_friday', 'weather_0', 'weather_1', 'weather_2']\n",
    "\n",
    "X = df_prepared[features]\n",
    "y = df_prepared['is_late'].values.astype(float)\n",
    "\n",
    "# Split the data\n",
    "X_train, X_test, y_train, y_test = train_test_split(X, y, test_size=0.2, random_state=42)\n",
    "\n",
    "# Scale the features\n",
    "scaler = StandardScaler()\n",
    "X_train_scaled = scaler.fit_transform(X_train)\n",
    "X_test_scaled = scaler.transform(X_test)"
   ]
  },
  {
   "cell_type": "markdown",
   "metadata": {
    "id": "Wjs2S-mAaTd4"
   },
   "source": [
    "# 4. Modeling"
   ]
  },
  {
   "cell_type": "code",
   "execution_count": 79,
   "metadata": {
    "colab": {
     "base_uri": "https://localhost:8080/",
     "height": 599
    },
    "id": "j16VmMW2TFum",
    "outputId": "d07474bb-8fb7-43c0-cfe3-645a75e5f93c"
   },
   "outputs": [
    {
     "name": "stderr",
     "output_type": "stream",
     "text": [
      "c:\\Users\\Asus\\OneDrive - student.gunadarma.ac.id\\Documents\\DICODING\\DBS\\CAPSTONE\\modeling\\venv310\\lib\\site-packages\\keras\\src\\layers\\core\\dense.py:93: UserWarning: Do not pass an `input_shape`/`input_dim` argument to a layer. When using Sequential models, prefer using an `Input(shape)` object as the first layer in the model instead.\n",
      "  super().__init__(activity_regularizer=activity_regularizer, **kwargs)\n"
     ]
    },
    {
     "data": {
      "text/html": [
       "<pre style=\"white-space:pre;overflow-x:auto;line-height:normal;font-family:Menlo,'DejaVu Sans Mono',consolas,'Courier New',monospace\"><span style=\"font-weight: bold\">Model: \"sequential_4\"</span>\n",
       "</pre>\n"
      ],
      "text/plain": [
       "\u001b[1mModel: \"sequential_4\"\u001b[0m\n"
      ]
     },
     "metadata": {},
     "output_type": "display_data"
    },
    {
     "data": {
      "text/html": [
       "<pre style=\"white-space:pre;overflow-x:auto;line-height:normal;font-family:Menlo,'DejaVu Sans Mono',consolas,'Courier New',monospace\">┏━━━━━━━━━━━━━━━━━━━━━━━━━━━━━━━━━┳━━━━━━━━━━━━━━━━━━━━━━━━┳━━━━━━━━━━━━━━━┓\n",
       "┃<span style=\"font-weight: bold\"> Layer (type)                    </span>┃<span style=\"font-weight: bold\"> Output Shape           </span>┃<span style=\"font-weight: bold\">       Param # </span>┃\n",
       "┡━━━━━━━━━━━━━━━━━━━━━━━━━━━━━━━━━╇━━━━━━━━━━━━━━━━━━━━━━━━╇━━━━━━━━━━━━━━━┩\n",
       "│ dense_16 (<span style=\"color: #0087ff; text-decoration-color: #0087ff\">Dense</span>)                │ (<span style=\"color: #00d7ff; text-decoration-color: #00d7ff\">None</span>, <span style=\"color: #00af00; text-decoration-color: #00af00\">64</span>)             │           <span style=\"color: #00af00; text-decoration-color: #00af00\">576</span> │\n",
       "├─────────────────────────────────┼────────────────────────┼───────────────┤\n",
       "│ batch_normalization_12          │ (<span style=\"color: #00d7ff; text-decoration-color: #00d7ff\">None</span>, <span style=\"color: #00af00; text-decoration-color: #00af00\">64</span>)             │           <span style=\"color: #00af00; text-decoration-color: #00af00\">256</span> │\n",
       "│ (<span style=\"color: #0087ff; text-decoration-color: #0087ff\">BatchNormalization</span>)            │                        │               │\n",
       "├─────────────────────────────────┼────────────────────────┼───────────────┤\n",
       "│ dropout_12 (<span style=\"color: #0087ff; text-decoration-color: #0087ff\">Dropout</span>)            │ (<span style=\"color: #00d7ff; text-decoration-color: #00d7ff\">None</span>, <span style=\"color: #00af00; text-decoration-color: #00af00\">64</span>)             │             <span style=\"color: #00af00; text-decoration-color: #00af00\">0</span> │\n",
       "├─────────────────────────────────┼────────────────────────┼───────────────┤\n",
       "│ dense_17 (<span style=\"color: #0087ff; text-decoration-color: #0087ff\">Dense</span>)                │ (<span style=\"color: #00d7ff; text-decoration-color: #00d7ff\">None</span>, <span style=\"color: #00af00; text-decoration-color: #00af00\">32</span>)             │         <span style=\"color: #00af00; text-decoration-color: #00af00\">2,080</span> │\n",
       "├─────────────────────────────────┼────────────────────────┼───────────────┤\n",
       "│ batch_normalization_13          │ (<span style=\"color: #00d7ff; text-decoration-color: #00d7ff\">None</span>, <span style=\"color: #00af00; text-decoration-color: #00af00\">32</span>)             │           <span style=\"color: #00af00; text-decoration-color: #00af00\">128</span> │\n",
       "│ (<span style=\"color: #0087ff; text-decoration-color: #0087ff\">BatchNormalization</span>)            │                        │               │\n",
       "├─────────────────────────────────┼────────────────────────┼───────────────┤\n",
       "│ dropout_13 (<span style=\"color: #0087ff; text-decoration-color: #0087ff\">Dropout</span>)            │ (<span style=\"color: #00d7ff; text-decoration-color: #00d7ff\">None</span>, <span style=\"color: #00af00; text-decoration-color: #00af00\">32</span>)             │             <span style=\"color: #00af00; text-decoration-color: #00af00\">0</span> │\n",
       "├─────────────────────────────────┼────────────────────────┼───────────────┤\n",
       "│ dense_18 (<span style=\"color: #0087ff; text-decoration-color: #0087ff\">Dense</span>)                │ (<span style=\"color: #00d7ff; text-decoration-color: #00d7ff\">None</span>, <span style=\"color: #00af00; text-decoration-color: #00af00\">16</span>)             │           <span style=\"color: #00af00; text-decoration-color: #00af00\">528</span> │\n",
       "├─────────────────────────────────┼────────────────────────┼───────────────┤\n",
       "│ batch_normalization_14          │ (<span style=\"color: #00d7ff; text-decoration-color: #00d7ff\">None</span>, <span style=\"color: #00af00; text-decoration-color: #00af00\">16</span>)             │            <span style=\"color: #00af00; text-decoration-color: #00af00\">64</span> │\n",
       "│ (<span style=\"color: #0087ff; text-decoration-color: #0087ff\">BatchNormalization</span>)            │                        │               │\n",
       "├─────────────────────────────────┼────────────────────────┼───────────────┤\n",
       "│ dropout_14 (<span style=\"color: #0087ff; text-decoration-color: #0087ff\">Dropout</span>)            │ (<span style=\"color: #00d7ff; text-decoration-color: #00d7ff\">None</span>, <span style=\"color: #00af00; text-decoration-color: #00af00\">16</span>)             │             <span style=\"color: #00af00; text-decoration-color: #00af00\">0</span> │\n",
       "├─────────────────────────────────┼────────────────────────┼───────────────┤\n",
       "│ dense_19 (<span style=\"color: #0087ff; text-decoration-color: #0087ff\">Dense</span>)                │ (<span style=\"color: #00d7ff; text-decoration-color: #00d7ff\">None</span>, <span style=\"color: #00af00; text-decoration-color: #00af00\">1</span>)              │            <span style=\"color: #00af00; text-decoration-color: #00af00\">17</span> │\n",
       "└─────────────────────────────────┴────────────────────────┴───────────────┘\n",
       "</pre>\n"
      ],
      "text/plain": [
       "┏━━━━━━━━━━━━━━━━━━━━━━━━━━━━━━━━━┳━━━━━━━━━━━━━━━━━━━━━━━━┳━━━━━━━━━━━━━━━┓\n",
       "┃\u001b[1m \u001b[0m\u001b[1mLayer (type)                   \u001b[0m\u001b[1m \u001b[0m┃\u001b[1m \u001b[0m\u001b[1mOutput Shape          \u001b[0m\u001b[1m \u001b[0m┃\u001b[1m \u001b[0m\u001b[1m      Param #\u001b[0m\u001b[1m \u001b[0m┃\n",
       "┡━━━━━━━━━━━━━━━━━━━━━━━━━━━━━━━━━╇━━━━━━━━━━━━━━━━━━━━━━━━╇━━━━━━━━━━━━━━━┩\n",
       "│ dense_16 (\u001b[38;5;33mDense\u001b[0m)                │ (\u001b[38;5;45mNone\u001b[0m, \u001b[38;5;34m64\u001b[0m)             │           \u001b[38;5;34m576\u001b[0m │\n",
       "├─────────────────────────────────┼────────────────────────┼───────────────┤\n",
       "│ batch_normalization_12          │ (\u001b[38;5;45mNone\u001b[0m, \u001b[38;5;34m64\u001b[0m)             │           \u001b[38;5;34m256\u001b[0m │\n",
       "│ (\u001b[38;5;33mBatchNormalization\u001b[0m)            │                        │               │\n",
       "├─────────────────────────────────┼────────────────────────┼───────────────┤\n",
       "│ dropout_12 (\u001b[38;5;33mDropout\u001b[0m)            │ (\u001b[38;5;45mNone\u001b[0m, \u001b[38;5;34m64\u001b[0m)             │             \u001b[38;5;34m0\u001b[0m │\n",
       "├─────────────────────────────────┼────────────────────────┼───────────────┤\n",
       "│ dense_17 (\u001b[38;5;33mDense\u001b[0m)                │ (\u001b[38;5;45mNone\u001b[0m, \u001b[38;5;34m32\u001b[0m)             │         \u001b[38;5;34m2,080\u001b[0m │\n",
       "├─────────────────────────────────┼────────────────────────┼───────────────┤\n",
       "│ batch_normalization_13          │ (\u001b[38;5;45mNone\u001b[0m, \u001b[38;5;34m32\u001b[0m)             │           \u001b[38;5;34m128\u001b[0m │\n",
       "│ (\u001b[38;5;33mBatchNormalization\u001b[0m)            │                        │               │\n",
       "├─────────────────────────────────┼────────────────────────┼───────────────┤\n",
       "│ dropout_13 (\u001b[38;5;33mDropout\u001b[0m)            │ (\u001b[38;5;45mNone\u001b[0m, \u001b[38;5;34m32\u001b[0m)             │             \u001b[38;5;34m0\u001b[0m │\n",
       "├─────────────────────────────────┼────────────────────────┼───────────────┤\n",
       "│ dense_18 (\u001b[38;5;33mDense\u001b[0m)                │ (\u001b[38;5;45mNone\u001b[0m, \u001b[38;5;34m16\u001b[0m)             │           \u001b[38;5;34m528\u001b[0m │\n",
       "├─────────────────────────────────┼────────────────────────┼───────────────┤\n",
       "│ batch_normalization_14          │ (\u001b[38;5;45mNone\u001b[0m, \u001b[38;5;34m16\u001b[0m)             │            \u001b[38;5;34m64\u001b[0m │\n",
       "│ (\u001b[38;5;33mBatchNormalization\u001b[0m)            │                        │               │\n",
       "├─────────────────────────────────┼────────────────────────┼───────────────┤\n",
       "│ dropout_14 (\u001b[38;5;33mDropout\u001b[0m)            │ (\u001b[38;5;45mNone\u001b[0m, \u001b[38;5;34m16\u001b[0m)             │             \u001b[38;5;34m0\u001b[0m │\n",
       "├─────────────────────────────────┼────────────────────────┼───────────────┤\n",
       "│ dense_19 (\u001b[38;5;33mDense\u001b[0m)                │ (\u001b[38;5;45mNone\u001b[0m, \u001b[38;5;34m1\u001b[0m)              │            \u001b[38;5;34m17\u001b[0m │\n",
       "└─────────────────────────────────┴────────────────────────┴───────────────┘\n"
      ]
     },
     "metadata": {},
     "output_type": "display_data"
    },
    {
     "data": {
      "text/html": [
       "<pre style=\"white-space:pre;overflow-x:auto;line-height:normal;font-family:Menlo,'DejaVu Sans Mono',consolas,'Courier New',monospace\"><span style=\"font-weight: bold\"> Total params: </span><span style=\"color: #00af00; text-decoration-color: #00af00\">3,649</span> (14.25 KB)\n",
       "</pre>\n"
      ],
      "text/plain": [
       "\u001b[1m Total params: \u001b[0m\u001b[38;5;34m3,649\u001b[0m (14.25 KB)\n"
      ]
     },
     "metadata": {},
     "output_type": "display_data"
    },
    {
     "data": {
      "text/html": [
       "<pre style=\"white-space:pre;overflow-x:auto;line-height:normal;font-family:Menlo,'DejaVu Sans Mono',consolas,'Courier New',monospace\"><span style=\"font-weight: bold\"> Trainable params: </span><span style=\"color: #00af00; text-decoration-color: #00af00\">3,425</span> (13.38 KB)\n",
       "</pre>\n"
      ],
      "text/plain": [
       "\u001b[1m Trainable params: \u001b[0m\u001b[38;5;34m3,425\u001b[0m (13.38 KB)\n"
      ]
     },
     "metadata": {},
     "output_type": "display_data"
    },
    {
     "data": {
      "text/html": [
       "<pre style=\"white-space:pre;overflow-x:auto;line-height:normal;font-family:Menlo,'DejaVu Sans Mono',consolas,'Courier New',monospace\"><span style=\"font-weight: bold\"> Non-trainable params: </span><span style=\"color: #00af00; text-decoration-color: #00af00\">224</span> (896.00 B)\n",
       "</pre>\n"
      ],
      "text/plain": [
       "\u001b[1m Non-trainable params: \u001b[0m\u001b[38;5;34m224\u001b[0m (896.00 B)\n"
      ]
     },
     "metadata": {},
     "output_type": "display_data"
    },
    {
     "name": "stdout",
     "output_type": "stream",
     "text": [
      "None\n"
     ]
    }
   ],
   "source": [
    "# Create model using Keras Sequential API\n",
    "model = tf.keras.Sequential([\n",
    "    tf.keras.layers.Dense(64, activation='relu', input_shape=(X_train_scaled.shape[1],)),\n",
    "    tf.keras.layers.BatchNormalization(),\n",
    "    tf.keras.layers.Dropout(0.3),\n",
    "\n",
    "    tf.keras.layers.Dense(32, activation='relu'),\n",
    "    tf.keras.layers.BatchNormalization(),\n",
    "    tf.keras.layers.Dropout(0.3),\n",
    "\n",
    "    tf.keras.layers.Dense(16, activation='relu'),\n",
    "    tf.keras.layers.BatchNormalization(),\n",
    "    tf.keras.layers.Dropout(0.3),\n",
    "\n",
    "    tf.keras.layers.Dense(1, activation='sigmoid')\n",
    "])\n",
    "\n",
    "# Compile model\n",
    "model.compile(\n",
    "    optimizer=tf.keras.optimizers.Adam(learning_rate=0.001),\n",
    "    loss='binary_crossentropy',\n",
    "    metrics=['accuracy']\n",
    ")\n",
    "print(model.summary())"
   ]
  },
  {
   "cell_type": "code",
   "execution_count": 80,
   "metadata": {
    "id": "dfjp_glFZMw-"
   },
   "outputs": [],
   "source": [
    "class MyCallback(tf.keras.callbacks.Callback):\n",
    "    def on_epoch_end(self, epoch, logs={}):\n",
    "        if logs.get('accuracy') > 0.95 and logs.get('val_accuracy') > 0.95:\n",
    "            print(\"\\n\\nTarget telah tercapai\\n\")\n",
    "            self.model.stop_training = True"
   ]
  },
  {
   "cell_type": "code",
   "execution_count": 81,
   "metadata": {
    "colab": {
     "base_uri": "https://localhost:8080/"
    },
    "id": "ZJNOSDQmZQF7",
    "outputId": "a4dc15ff-f2d1-4c36-e4a5-6240d129ab6d"
   },
   "outputs": [
    {
     "name": "stdout",
     "output_type": "stream",
     "text": [
      "Epoch 1/100\n",
      "\u001b[1m40/40\u001b[0m \u001b[32m━━━━━━━━━━━━━━━━━━━━\u001b[0m\u001b[37m\u001b[0m \u001b[1m2s\u001b[0m 9ms/step - accuracy: 0.4985 - loss: 0.8991 - val_accuracy: 0.8438 - val_loss: 0.5867\n",
      "Epoch 2/100\n",
      "\u001b[1m40/40\u001b[0m \u001b[32m━━━━━━━━━━━━━━━━━━━━\u001b[0m\u001b[37m\u001b[0m \u001b[1m2s\u001b[0m 9ms/step - accuracy: 0.4985 - loss: 0.8991 - val_accuracy: 0.8438 - val_loss: 0.5867\n",
      "Epoch 2/100\n",
      "\u001b[1m40/40\u001b[0m \u001b[32m━━━━━━━━━━━━━━━━━━━━\u001b[0m\u001b[37m\u001b[0m \u001b[1m0s\u001b[0m 4ms/step - accuracy: 0.6974 - loss: 0.5984 - val_accuracy: 0.8781 - val_loss: 0.4929\n",
      "Epoch 3/100\n",
      "\u001b[1m40/40\u001b[0m \u001b[32m━━━━━━━━━━━━━━━━━━━━\u001b[0m\u001b[37m\u001b[0m \u001b[1m0s\u001b[0m 4ms/step - accuracy: 0.6974 - loss: 0.5984 - val_accuracy: 0.8781 - val_loss: 0.4929\n",
      "Epoch 3/100\n",
      "\u001b[1m40/40\u001b[0m \u001b[32m━━━━━━━━━━━━━━━━━━━━\u001b[0m\u001b[37m\u001b[0m \u001b[1m0s\u001b[0m 3ms/step - accuracy: 0.7980 - loss: 0.4799 - val_accuracy: 0.9031 - val_loss: 0.3941\n",
      "Epoch 4/100\n",
      "\u001b[1m40/40\u001b[0m \u001b[32m━━━━━━━━━━━━━━━━━━━━\u001b[0m\u001b[37m\u001b[0m \u001b[1m0s\u001b[0m 3ms/step - accuracy: 0.7980 - loss: 0.4799 - val_accuracy: 0.9031 - val_loss: 0.3941\n",
      "Epoch 4/100\n",
      "\u001b[1m40/40\u001b[0m \u001b[32m━━━━━━━━━━━━━━━━━━━━\u001b[0m\u001b[37m\u001b[0m \u001b[1m0s\u001b[0m 3ms/step - accuracy: 0.8428 - loss: 0.3890 - val_accuracy: 0.9219 - val_loss: 0.3161\n",
      "Epoch 5/100\n",
      "\u001b[1m40/40\u001b[0m \u001b[32m━━━━━━━━━━━━━━━━━━━━\u001b[0m\u001b[37m\u001b[0m \u001b[1m0s\u001b[0m 3ms/step - accuracy: 0.8428 - loss: 0.3890 - val_accuracy: 0.9219 - val_loss: 0.3161\n",
      "Epoch 5/100\n",
      "\u001b[1m40/40\u001b[0m \u001b[32m━━━━━━━━━━━━━━━━━━━━\u001b[0m\u001b[37m\u001b[0m \u001b[1m0s\u001b[0m 4ms/step - accuracy: 0.8783 - loss: 0.3449 - val_accuracy: 0.9406 - val_loss: 0.2501\n",
      "Epoch 6/100\n",
      "\u001b[1m40/40\u001b[0m \u001b[32m━━━━━━━━━━━━━━━━━━━━\u001b[0m\u001b[37m\u001b[0m \u001b[1m0s\u001b[0m 4ms/step - accuracy: 0.8783 - loss: 0.3449 - val_accuracy: 0.9406 - val_loss: 0.2501\n",
      "Epoch 6/100\n",
      "\u001b[1m40/40\u001b[0m \u001b[32m━━━━━━━━━━━━━━━━━━━━\u001b[0m\u001b[37m\u001b[0m \u001b[1m0s\u001b[0m 3ms/step - accuracy: 0.8971 - loss: 0.2859 - val_accuracy: 0.9563 - val_loss: 0.1949\n",
      "Epoch 7/100\n",
      "\u001b[1m40/40\u001b[0m \u001b[32m━━━━━━━━━━━━━━━━━━━━\u001b[0m\u001b[37m\u001b[0m \u001b[1m0s\u001b[0m 3ms/step - accuracy: 0.8971 - loss: 0.2859 - val_accuracy: 0.9563 - val_loss: 0.1949\n",
      "Epoch 7/100\n",
      "\u001b[1m40/40\u001b[0m \u001b[32m━━━━━━━━━━━━━━━━━━━━\u001b[0m\u001b[37m\u001b[0m \u001b[1m0s\u001b[0m 3ms/step - accuracy: 0.9205 - loss: 0.2352 - val_accuracy: 0.9594 - val_loss: 0.1532\n",
      "Epoch 8/100\n",
      "\u001b[1m40/40\u001b[0m \u001b[32m━━━━━━━━━━━━━━━━━━━━\u001b[0m\u001b[37m\u001b[0m \u001b[1m0s\u001b[0m 3ms/step - accuracy: 0.9205 - loss: 0.2352 - val_accuracy: 0.9594 - val_loss: 0.1532\n",
      "Epoch 8/100\n",
      "\u001b[1m40/40\u001b[0m \u001b[32m━━━━━━━━━━━━━━━━━━━━\u001b[0m\u001b[37m\u001b[0m \u001b[1m0s\u001b[0m 3ms/step - accuracy: 0.9385 - loss: 0.1885 - val_accuracy: 0.9531 - val_loss: 0.1345\n",
      "Epoch 9/100\n",
      "\u001b[1m40/40\u001b[0m \u001b[32m━━━━━━━━━━━━━━━━━━━━\u001b[0m\u001b[37m\u001b[0m \u001b[1m0s\u001b[0m 3ms/step - accuracy: 0.9385 - loss: 0.1885 - val_accuracy: 0.9531 - val_loss: 0.1345\n",
      "Epoch 9/100\n",
      "\u001b[1m40/40\u001b[0m \u001b[32m━━━━━━━━━━━━━━━━━━━━\u001b[0m\u001b[37m\u001b[0m \u001b[1m0s\u001b[0m 3ms/step - accuracy: 0.9506 - loss: 0.1771 - val_accuracy: 0.9656 - val_loss: 0.1147\n",
      "Epoch 10/100\n",
      "\u001b[1m40/40\u001b[0m \u001b[32m━━━━━━━━━━━━━━━━━━━━\u001b[0m\u001b[37m\u001b[0m \u001b[1m0s\u001b[0m 3ms/step - accuracy: 0.9506 - loss: 0.1771 - val_accuracy: 0.9656 - val_loss: 0.1147\n",
      "Epoch 10/100\n",
      "\u001b[1m40/40\u001b[0m \u001b[32m━━━━━━━━━━━━━━━━━━━━\u001b[0m\u001b[37m\u001b[0m \u001b[1m0s\u001b[0m 3ms/step - accuracy: 0.9430 - loss: 0.1919 - val_accuracy: 0.9719 - val_loss: 0.1015\n",
      "Epoch 11/100\n",
      "\u001b[1m40/40\u001b[0m \u001b[32m━━━━━━━━━━━━━━━━━━━━\u001b[0m\u001b[37m\u001b[0m \u001b[1m0s\u001b[0m 3ms/step - accuracy: 0.9430 - loss: 0.1919 - val_accuracy: 0.9719 - val_loss: 0.1015\n",
      "Epoch 11/100\n",
      "\u001b[1m36/40\u001b[0m \u001b[32m━━━━━━━━━━━━━━━━━━\u001b[0m\u001b[37m━━\u001b[0m \u001b[1m0s\u001b[0m 1ms/step - accuracy: 0.9590 - loss: 0.1530 \n",
      "\n",
      "Target telah tercapai\n",
      "\n",
      "\u001b[1m40/40\u001b[0m \u001b[32m━━━━━━━━━━━━━━━━━━━━\u001b[0m\u001b[37m\u001b[0m \u001b[1m0s\u001b[0m 3ms/step - accuracy: 0.9581 - loss: 0.1545 - val_accuracy: 0.9688 - val_loss: 0.0929\n",
      "\n",
      "\n",
      "Target telah tercapai\n",
      "\n",
      "\u001b[1m40/40\u001b[0m \u001b[32m━━━━━━━━━━━━━━━━━━━━\u001b[0m\u001b[37m\u001b[0m \u001b[1m0s\u001b[0m 3ms/step - accuracy: 0.9581 - loss: 0.1545 - val_accuracy: 0.9688 - val_loss: 0.0929\n",
      "Training accuracy: 0.9800\n",
      "Testing accuracy: 0.9725\n",
      "Training accuracy: 0.9800\n",
      "Testing accuracy: 0.9725\n"
     ]
    }
   ],
   "source": [
    "# Melatih model dengan data generator\n",
    "history = model.fit(\n",
    "    X_train_scaled, y_train,\n",
    "    epochs=100,\n",
    "    batch_size=32,\n",
    "    validation_split=0.2,\n",
    "    callbacks=[MyCallback()],\n",
    "    verbose=1\n",
    ")\n",
    "\n",
    "# Evaluate model\n",
    "train_loss, train_accuracy = model.evaluate(X_train_scaled, y_train, verbose=0)\n",
    "test_loss, test_accuracy = model.evaluate(X_test_scaled, y_test, verbose=0)\n",
    "\n",
    "print(f'Training accuracy: {train_accuracy:.4f}')\n",
    "print(f'Testing accuracy: {test_accuracy:.4f}')"
   ]
  },
  {
   "cell_type": "code",
   "execution_count": 82,
   "metadata": {},
   "outputs": [
    {
     "data": {
      "image/png": "[encoded data removed]",
      "text/plain": [
       "<Figure size 1200x400 with 2 Axes>"
      ]
     },
     "metadata": {},
     "output_type": "display_data"
    },
    {
     "name": "stdout",
     "output_type": "stream",
     "text": [
      "Training accuracy: 0.9800\n",
      "Testing accuracy: 0.9725\n"
     ]
    }
   ],
   "source": [
    "def evaluate_model(history):\n",
    "    # Plot training & validation accuracy\n",
    "    plt.figure(figsize=(12, 4))\n",
    "    \n",
    "    # Accuracy plot\n",
    "    plt.subplot(1, 2, 1)\n",
    "    plt.plot(history.history['accuracy'], label='Training Accuracy')\n",
    "    plt.plot(history.history['val_accuracy'], label='Validation Accuracy')\n",
    "    plt.title('Model Accuracy over Epochs')\n",
    "    plt.xlabel('Epoch')\n",
    "    plt.ylabel('Accuracy')\n",
    "    plt.legend()\n",
    "    \n",
    "    # Loss plot\n",
    "    plt.subplot(1, 2, 2)\n",
    "    plt.plot(history.history['loss'], label='Training Loss')\n",
    "    plt.plot(history.history['val_loss'], label='Validation Loss')\n",
    "    plt.title('Model Loss over Epochs')\n",
    "    plt.xlabel('Epoch')\n",
    "    plt.ylabel('Loss')\n",
    "    plt.legend()\n",
    "    \n",
    "    plt.tight_layout()\n",
    "    plt.show()\n",
    "\n",
    "# Visualisasi hasil training\n",
    "evaluate_model(history)\n",
    "\n",
    "print(f'Training accuracy: {train_accuracy:.4f}')\n",
    "print(f'Testing accuracy: {test_accuracy:.4f}')"
   ]
  },
  {
   "cell_type": "markdown",
   "metadata": {},
   "source": [
    "# 5. Prediction System"
   ]
  },
  {
   "cell_type": "code",
   "execution_count": 83,
   "metadata": {
    "colab": {
     "base_uri": "https://localhost:8080/"
    },
    "id": "yS6LxRzpGM30",
    "outputId": "5249265d-721b-41dc-8eab-6fade441223e"
   },
   "outputs": [],
   "source": [
    "def prediksi_kehadiran(hari_string, jam_jadwal, kondisi_cuaca, jam_masuk=None):\n",
    "    \"\"\"\n",
    "    Memprediksi kehadiran menggunakan data cuaca dari database\n",
    "\n",
    "    Args:\n",
    "        hari_string (str): Nama hari dalam bahasa Inggris (e.g., 'Monday', 'Tuesday', etc.)\n",
    "        jam_jadwal (str): Waktu jadwal dalam format \"HH:MM:SS\"\n",
    "        kondisi_cuaca (str): Kondisi cuaca dari database backend\n",
    "        jam_masuk (str, optional): Waktu kedatangan dalam format \"HH:MM:SS\". \n",
    "                                 Jika None, akan menggunakan jam_jadwal + 1 jam untuk simulasi\n",
    "    \"\"\"\n",
    "    # Konversi nama hari ke angka (0-6)\n",
    "    hari_ke_angka = {\n",
    "        'Monday': 0,\n",
    "        'Tuesday': 1,\n",
    "        'Wednesday': 2,\n",
    "        'Thursday': 3,\n",
    "        'Friday': 4,\n",
    "        'Saturday': 5,\n",
    "        'Sunday': 6\n",
    "    }\n",
    "    hari = hari_ke_angka.get(hari_string, 0)  # Default ke Senin jika tidak dikenal\n",
    "\n",
    "    # Konversi waktu jadwal dari string \"HH:MM:SS\" ke menit\n",
    "    jam, menit, _ = map(int, jam_jadwal.split(':'))\n",
    "    waktu_jadwal = jam * 60 + menit\n",
    "\n",
    "    # Konversi waktu kedatangan\n",
    "    if jam_masuk:\n",
    "        jam, menit, _ = map(int, jam_masuk.split(':'))\n",
    "        waktu_kedatangan = jam * 60 + menit\n",
    "    else:\n",
    "        # Jika tidak ada jam_masuk, gunakan jam_jadwal + 1 jam untuk simulasi\n",
    "        waktu_kedatangan = waktu_jadwal + 60\n",
    "\n",
    "    # Menghitung selisih waktu (dalam menit)\n",
    "    selisih_waktu = waktu_kedatangan - waktu_jadwal\n",
    "\n",
    "    # Memetakan kondisi cuaca ke kategori yang digunakan saat training\n",
    "    peta_cuaca = {\n",
    "        'Clear': [1, 0, 0],  # weather_0\n",
    "        'Clouds': [0, 1, 0],  # weather_1\n",
    "        'Rain': [0, 0, 1],   # weather_2\n",
    "        'Thunderstorm': [0, 0, 1]  # Thunderstorm treated same as Rain\n",
    "    }\n",
    "    cuaca_vector = peta_cuaca.get(kondisi_cuaca, [1, 0, 0])  # Default to Clear if unknown\n",
    "\n",
    "    # Menyiapkan fitur-fitur dalam urutan yang sama dengan training\n",
    "    fitur = [\n",
    "        waktu_jadwal,                    # scheduled_time\n",
    "        waktu_kedatangan,                # arrival_time (waktu kedatangan aktual atau simulasi)\n",
    "        hari,                            # day_of_week\n",
    "        1 if hari == 0 else 0,           # is_monday\n",
    "        1 if hari == 4 else 0,           # is_friday\n",
    "        cuaca_vector[0],                 # weather_0\n",
    "        cuaca_vector[1],                 # weather_1\n",
    "        cuaca_vector[2]                  # weather_2\n",
    "    ]\n",
    "\n",
    "    # Mengubah ke numpy array dan melakukan scaling\n",
    "    fitur_array = np.array([fitur])\n",
    "    fitur_scaled = scaler.transform(fitur_array)\n",
    "\n",
    "    # Mendapatkan probabilitas prediksi menggunakan model\n",
    "    prediksi = float(model.predict(fitur_scaled)[0][0])\n",
    "\n",
    "    # Menentukan toleransi berdasarkan cuaca\n",
    "    toleransi = 5 if kondisi_cuaca in ['Rain', 'Thunderstorm'] else 1\n",
    "\n",
    "    # Menentukan keterlambatan berdasarkan selisih waktu dan toleransi\n",
    "    is_terlambat = selisih_waktu > toleransi  # Terlambat jika selisih waktu lebih dari toleransi\n",
    "\n",
    "    return {\n",
    "        'probabilitas_prediksi': prediksi,\n",
    "        'kondisi_cuaca': kondisi_cuaca,\n",
    "        'toleransi_menit': toleransi,\n",
    "        'kemungkinan_terlambat': is_terlambat,\n",
    "        'waktu_jadwal': jam_jadwal,\n",
    "        'waktu_kedatangan': jam_masuk if jam_masuk else f\"{(waktu_kedatangan // 60):02d}:{(waktu_kedatangan % 60):02d}:00\",\n",
    "        'selisih_menit': selisih_waktu\n",
    "    }"
   ]
  },
  {
   "cell_type": "code",
   "execution_count": 84,
   "metadata": {},
   "outputs": [
    {
     "name": "stderr",
     "output_type": "stream",
     "text": [
      "WARNING:absl:You are saving your model as an HDF5 file via `model.save()` or `keras.saving.save_model(model)`. This file format is considered legacy. We recommend using instead the native Keras format, e.g. `model.save('my_model.keras')` or `keras.saving.save_model(model, 'my_model.keras')`. \n"
     ]
    },
    {
     "name": "stdout",
     "output_type": "stream",
     "text": [
      "✅ Model saved as 'model/absensi_model.h5'\n",
      "✅ Scaler saved as 'model/scaler.joblib'\n",
      "✅ Model metadata saved as 'model/model_metadata.json'\n",
      "\n",
      "✅ Scaler saved as 'model/scaler.joblib'\n",
      "✅ Model metadata saved as 'model/model_metadata.json'\n"
     ]
    }
   ],
   "source": [
    "def save_model_artifacts():\n",
    "    # Membuat direktori model jika belum ada\n",
    "    os.makedirs('model', exist_ok=True)\n",
    "    \n",
    "    # Menyimpan model dalam format H5\n",
    "    model.save('model/absensi_model.h5')\n",
    "    print(\"✅ Model saved as 'model/absensi_model.h5'\")\n",
    "    \n",
    "    # Menyimpan scaler\n",
    "    joblib.dump(scaler, 'model/scaler.joblib')\n",
    "    print(\"✅ Scaler saved as 'model/scaler.joblib'\")\n",
    "    \n",
    "    # Menyimpan metadata model\n",
    "    metadata = {\n",
    "        'features': features,\n",
    "        'input_shape': X_train_scaled.shape[1],\n",
    "        'training_accuracy': float(train_accuracy),\n",
    "        'test_accuracy': float(test_accuracy),\n",
    "        'weather_map': {\n",
    "            'Clear': [1, 0, 0],\n",
    "            'Clouds': [0, 1, 0],\n",
    "            'Rain': [0, 0, 1],\n",
    "            'Thunderstorm': [0, 0, 1]\n",
    "        },\n",
    "        'day_map': {\n",
    "            'Monday': 0,\n",
    "            'Tuesday': 1,\n",
    "            'Wednesday': 2,\n",
    "            'Thursday': 3,\n",
    "            'Friday': 4,\n",
    "            'Saturday': 5,\n",
    "            'Sunday': 6\n",
    "        },\n",
    "        'tolerances': {\n",
    "            'Rain': 5,\n",
    "            'Thunderstorm': 5,\n",
    "            'Clear': 1,\n",
    "            'Clouds': 1\n",
    "        }\n",
    "    }\n",
    "    \n",
    "    with open('model/model_metadata.json', 'w') as f:\n",
    "        json.dump(metadata, f, indent=2)\n",
    "    print(\"✅ Model metadata saved as 'model/model_metadata.json'\")\n",
    "\n",
    "# Menyimpan model dan artifacts\n",
    "save_model_artifacts()"
   ]
  },
  {
   "cell_type": "markdown",
   "metadata": {},
   "source": [
    "# 6. Inference"
   ]
  },
  {
   "cell_type": "code",
   "execution_count": 85,
   "metadata": {
    "colab": {
     "base_uri": "https://localhost:8080/",
     "height": 339
    },
    "id": "8VpauA50iqaz",
    "outputId": "46631438-622d-44c1-fc93-3dec88f8e483"
   },
   "outputs": [
    {
     "name": "stderr",
     "output_type": "stream",
     "text": [
      "c:\\Users\\Asus\\OneDrive - student.gunadarma.ac.id\\Documents\\DICODING\\DBS\\CAPSTONE\\modeling\\venv310\\lib\\site-packages\\sklearn\\utils\\validation.py:2749: UserWarning: X does not have valid feature names, but StandardScaler was fitted with feature names\n",
      "  warnings.warn(\n"
     ]
    },
    {
     "name": "stdout",
     "output_type": "stream",
     "text": [
      "\u001b[1m1/1\u001b[0m \u001b[32m━━━━━━━━━━━━━━━━━━━━\u001b[0m\u001b[37m\u001b[0m \u001b[1m0s\u001b[0m 100ms/step\n",
      "\u001b[1m1/1\u001b[0m \u001b[32m━━━━━━━━━━━━━━━━━━━━\u001b[0m\u001b[37m\u001b[0m \u001b[1m0s\u001b[0m 100ms/step\n",
      "Hasil prediksi: {'probabilitas_prediksi': 2.223126569715194e-14, 'kondisi_cuaca': 'Rain', 'toleransi_menit': 5, 'kemungkinan_terlambat': True, 'waktu_jadwal': '09:00:00', 'waktu_kedatangan': '10:00:00', 'selisih_menit': 60}\n",
      "Hasil prediksi: {'probabilitas_prediksi': 2.223126569715194e-14, 'kondisi_cuaca': 'Rain', 'toleransi_menit': 5, 'kemungkinan_terlambat': True, 'waktu_jadwal': '09:00:00', 'waktu_kedatangan': '10:00:00', 'selisih_menit': 60}\n"
     ]
    },
    {
     "name": "stderr",
     "output_type": "stream",
     "text": [
      "c:\\Users\\Asus\\OneDrive - student.gunadarma.ac.id\\Documents\\DICODING\\DBS\\CAPSTONE\\modeling\\venv310\\lib\\site-packages\\sklearn\\utils\\validation.py:2749: UserWarning: X does not have valid feature names, but StandardScaler was fitted with feature names\n",
      "  warnings.warn(\n"
     ]
    },
    {
     "name": "stdout",
     "output_type": "stream",
     "text": [
      "\u001b[1m1/1\u001b[0m \u001b[32m━━━━━━━━━━━━━━━━━━━━\u001b[0m\u001b[37m\u001b[0m \u001b[1m0s\u001b[0m 33ms/step\n",
      "\u001b[1m1/1\u001b[0m \u001b[32m━━━━━━━━━━━━━━━━━━━━\u001b[0m\u001b[37m\u001b[0m \u001b[1m0s\u001b[0m 33ms/step\n",
      "\n",
      "=== Test 1: Keterlambatan Ekstrim ===\n",
      "Jadwal: 09:00:00\n",
      "Kedatangan: 17:15:03\n",
      "Kondisi Cuaca: Clouds\n",
      "Selisih: 495 menit\n",
      "Toleransi: 1 menit\n",
      "Status: TERLAMBAT ⚠️\n",
      "--------------------------------------------------\n",
      "\u001b[1m1/1\u001b[0m \u001b[32m━━━━━━━━━━━━━━━━━━━━\u001b[0m\u001b[37m\u001b[0m \u001b[1m0s\u001b[0m 16ms/step\n",
      "=== Test 1: Keterlambatan Ekstrim ===\n",
      "Jadwal: 09:00:00\n",
      "Kedatangan: 17:15:03\n",
      "Kondisi Cuaca: Clouds\n",
      "Selisih: 495 menit\n",
      "Toleransi: 1 menit\n",
      "Status: TERLAMBAT ⚠️\n",
      "--------------------------------------------------\n",
      "\u001b[1m1/1\u001b[0m \u001b[32m━━━━━━━━━━━━━━━━━━━━\u001b[0m\u001b[37m\u001b[0m \u001b[1m0s\u001b[0m 29ms/step\n",
      "\u001b[1m1/1\u001b[0m \u001b[32m━━━━━━━━━━━━━━━━━━━━\u001b[0m\u001b[37m\u001b[0m \u001b[1m0s\u001b[0m 29ms/step\n",
      "\n",
      "=== Test 2: Cuaca Buruk (30 Menit Terlambat) ===\n",
      "Jadwal: 08:00:00\n",
      "Kedatangan: 08:30:00\n",
      "Kondisi Cuaca: Thunderstorm\n",
      "Selisih: 30 menit\n",
      "Toleransi: 5 menit\n",
      "Status: TERLAMBAT ⚠️\n",
      "--------------------------------------------------\n",
      "\u001b[1m1/1\u001b[0m \u001b[32m━━━━━━━━━━━━━━━━━━━━\u001b[0m\u001b[37m\u001b[0m \u001b[1m0s\u001b[0m 18ms/step\n",
      "=== Test 2: Cuaca Buruk (30 Menit Terlambat) ===\n",
      "Jadwal: 08:00:00\n",
      "Kedatangan: 08:30:00\n",
      "Kondisi Cuaca: Thunderstorm\n",
      "Selisih: 30 menit\n",
      "Toleransi: 5 menit\n",
      "Status: TERLAMBAT ⚠️\n",
      "--------------------------------------------------\n",
      "\u001b[1m1/1\u001b[0m \u001b[32m━━━━━━━━━━━━━━━━━━━━\u001b[0m\u001b[37m\u001b[0m \u001b[1m0s\u001b[0m 18ms/step"
     ]
    },
    {
     "name": "stderr",
     "output_type": "stream",
     "text": [
      "c:\\Users\\Asus\\OneDrive - student.gunadarma.ac.id\\Documents\\DICODING\\DBS\\CAPSTONE\\modeling\\venv310\\lib\\site-packages\\sklearn\\utils\\validation.py:2749: UserWarning: X does not have valid feature names, but StandardScaler was fitted with feature names\n",
      "  warnings.warn(\n",
      "c:\\Users\\Asus\\OneDrive - student.gunadarma.ac.id\\Documents\\DICODING\\DBS\\CAPSTONE\\modeling\\venv310\\lib\\site-packages\\sklearn\\utils\\validation.py:2749: UserWarning: X does not have valid feature names, but StandardScaler was fitted with feature names\n",
      "  warnings.warn(\n"
     ]
    },
    {
     "name": "stdout",
     "output_type": "stream",
     "text": [
      "\u001b[1m1/1\u001b[0m \u001b[32m━━━━━━━━━━━━━━━━━━━━\u001b[0m\u001b[37m\u001b[0m \u001b[1m0s\u001b[0m 33ms/step\n",
      "\n",
      "=== Test 3: Datang Lebih Awal ===\n",
      "Jadwal: 09:00:00\n",
      "Kedatangan: 08:55:00\n",
      "Kondisi Cuaca: Clear\n",
      "Selisih: -5 menit\n",
      "Toleransi: 1 menit\n",
      "Status: TEPAT WAKTU ✅\n",
      "--------------------------------------------------\n",
      "\u001b[1m1/1\u001b[0m \u001b[32m━━━━━━━━━━━━━━━━━━━━\u001b[0m\u001b[37m\u001b[0m \u001b[1m0s\u001b[0m 19ms/step\n",
      "=== Test 3: Datang Lebih Awal ===\n",
      "Jadwal: 09:00:00\n",
      "Kedatangan: 08:55:00\n",
      "Kondisi Cuaca: Clear\n",
      "Selisih: -5 menit\n",
      "Toleransi: 1 menit\n",
      "Status: TEPAT WAKTU ✅\n",
      "--------------------------------------------------\n",
      "\u001b[1m1/1\u001b[0m \u001b[32m━━━━━━━━━━━━━━━━━━━━\u001b[0m\u001b[37m\u001b[0m \u001b[1m0s\u001b[0m 19ms/step"
     ]
    },
    {
     "name": "stderr",
     "output_type": "stream",
     "text": [
      "c:\\Users\\Asus\\OneDrive - student.gunadarma.ac.id\\Documents\\DICODING\\DBS\\CAPSTONE\\modeling\\venv310\\lib\\site-packages\\sklearn\\utils\\validation.py:2749: UserWarning: X does not have valid feature names, but StandardScaler was fitted with feature names\n",
      "  warnings.warn(\n"
     ]
    },
    {
     "name": "stdout",
     "output_type": "stream",
     "text": [
      "\u001b[1m1/1\u001b[0m \u001b[32m━━━━━━━━━━━━━━━━━━━━\u001b[0m\u001b[37m\u001b[0m \u001b[1m0s\u001b[0m 35ms/step\n",
      "\n",
      "=== Test 4: Tepat Waktu ===\n",
      "Jadwal: 09:00:00\n",
      "Kedatangan: 09:00:00\n",
      "Kondisi Cuaca: Clear\n",
      "Selisih: 0 menit\n",
      "Toleransi: 1 menit\n",
      "Status: TEPAT WAKTU ✅\n",
      "--------------------------------------------------\n",
      "\u001b[1m1/1\u001b[0m \u001b[32m━━━━━━━━━━━━━━━━━━━━\u001b[0m\u001b[37m\u001b[0m \u001b[1m0s\u001b[0m 33ms/step\n",
      "\n",
      "=== Test 4: Tepat Waktu ===\n",
      "Jadwal: 09:00:00\n",
      "Kedatangan: 09:00:00\n",
      "Kondisi Cuaca: Clear\n",
      "Selisih: 0 menit\n",
      "Toleransi: 1 menit\n",
      "Status: TEPAT WAKTU ✅\n",
      "--------------------------------------------------\n",
      "\u001b[1m1/1\u001b[0m \u001b[32m━━━━━━━━━━━━━━━━━━━━\u001b[0m\u001b[37m\u001b[0m \u001b[1m0s\u001b[0m 33ms/step\n",
      "\n",
      "=== Test 5: Terlambat dalam Toleransi (Hujan) ===\n",
      "Jadwal: 09:00:00\n",
      "Kedatangan: 09:02:00\n",
      "Kondisi Cuaca: Rain\n",
      "Selisih: 2 menit\n",
      "Toleransi: 5 menit\n",
      "Status: TEPAT WAKTU ✅\n",
      "--------------------------------------------------\n",
      "\n",
      "=== Test 5: Terlambat dalam Toleransi (Hujan) ===\n",
      "Jadwal: 09:00:00\n",
      "Kedatangan: 09:02:00\n",
      "Kondisi Cuaca: Rain\n",
      "Selisih: 2 menit\n",
      "Toleransi: 5 menit\n",
      "Status: TEPAT WAKTU ✅\n",
      "--------------------------------------------------\n"
     ]
    },
    {
     "name": "stderr",
     "output_type": "stream",
     "text": [
      "c:\\Users\\Asus\\OneDrive - student.gunadarma.ac.id\\Documents\\DICODING\\DBS\\CAPSTONE\\modeling\\venv310\\lib\\site-packages\\sklearn\\utils\\validation.py:2749: UserWarning: X does not have valid feature names, but StandardScaler was fitted with feature names\n",
      "  warnings.warn(\n",
      "c:\\Users\\Asus\\OneDrive - student.gunadarma.ac.id\\Documents\\DICODING\\DBS\\CAPSTONE\\modeling\\venv310\\lib\\site-packages\\sklearn\\utils\\validation.py:2749: UserWarning: X does not have valid feature names, but StandardScaler was fitted with feature names\n",
      "  warnings.warn(\n"
     ]
    },
    {
     "name": "stdout",
     "output_type": "stream",
     "text": [
      "\u001b[1m1/1\u001b[0m \u001b[32m━━━━━━━━━━━━━━━━━━━━\u001b[0m\u001b[37m\u001b[0m \u001b[1m0s\u001b[0m 33ms/step\n",
      "\n",
      "=== Test 6: Terlambat Melebihi Toleransi (Hujan) ===\n",
      "Jadwal: 09:00:00\n",
      "Kedatangan: 09:06:00\n",
      "Kondisi Cuaca: Rain\n",
      "Selisih: 6 menit\n",
      "Toleransi: 5 menit\n",
      "Status: TERLAMBAT ⚠️\n",
      "--------------------------------------------------\n",
      "\u001b[1m1/1\u001b[0m \u001b[32m━━━━━━━━━━━━━━━━━━━━\u001b[0m\u001b[37m\u001b[0m \u001b[1m0s\u001b[0m 33ms/step\n",
      "\n",
      "=== Test 6: Terlambat Melebihi Toleransi (Hujan) ===\n",
      "Jadwal: 09:00:00\n",
      "Kedatangan: 09:06:00\n",
      "Kondisi Cuaca: Rain\n",
      "Selisih: 6 menit\n",
      "Toleransi: 5 menit\n",
      "Status: TERLAMBAT ⚠️\n",
      "--------------------------------------------------\n"
     ]
    }
   ],
   "source": [
    "hari_uji = 'Monday'  # Using string day name now\n",
    "waktu_jadwal = '09:00:00'  # Using HH:MM:SS format now\n",
    "cuaca_uji = 'Rain'\n",
    "\n",
    "# Memanggil fungsi prediksi_kehadiran dengan argumen yang sesuai\n",
    "hasil = prediksi_kehadiran(hari_string=hari_uji, jam_jadwal=waktu_jadwal, kondisi_cuaca=cuaca_uji)\n",
    "\n",
    "print('Hasil prediksi:', hasil)\n",
    "\n",
    "def print_hasil_prediksi(test_name, hasil):\n",
    "    print(f\"\\n=== {test_name} ===\")\n",
    "    print(f\"Jadwal: {hasil['waktu_jadwal']}\")\n",
    "    print(f\"Kedatangan: {hasil['waktu_kedatangan']}\")\n",
    "    print(f\"Kondisi Cuaca: {hasil['kondisi_cuaca']}\")\n",
    "    print(f\"Selisih: {hasil['selisih_menit']} menit\")\n",
    "    print(f\"Toleransi: {hasil['toleransi_menit']} menit\")\n",
    "    print(f\"Status: {'TERLAMBAT ⚠️' if hasil['kemungkinan_terlambat'] else 'TEPAT WAKTU ✅'}\")\n",
    "    print('-' * 50)\n",
    "\n",
    "# Test Case 1: Keterlambatan Ekstrim \n",
    "hasil1 = prediksi_kehadiran(\n",
    "    hari_string='Sunday',\n",
    "    jam_jadwal='09:00:00',\n",
    "    jam_masuk='17:15:03',  # Sangat terlambat \n",
    "    kondisi_cuaca='Clouds'\n",
    ")\n",
    "print_hasil_prediksi('Test 1: Keterlambatan Ekstrim', hasil1)\n",
    "\n",
    "# Test Case 2: Cuaca Buruk dengan Keterlambatan\n",
    "hasil2 = prediksi_kehadiran(\n",
    "    hari_string='Monday',\n",
    "    jam_jadwal='08:00:00',\n",
    "    jam_masuk='08:30:00',  # 30 menit terlambat\n",
    "    kondisi_cuaca='Thunderstorm'\n",
    ")\n",
    "print_hasil_prediksi('Test 2: Cuaca Buruk (30 Menit Terlambat)', hasil2)\n",
    "\n",
    "# Test Case 3: Datang Lebih Awal\n",
    "hasil3 = prediksi_kehadiran(\n",
    "    hari_string='Wednesday',\n",
    "    jam_jadwal='09:00:00',\n",
    "    jam_masuk='08:55:00',  # 5 menit lebih awal\n",
    "    kondisi_cuaca='Clear'\n",
    ")\n",
    "print_hasil_prediksi('Test 3: Datang Lebih Awal', hasil3)\n",
    "\n",
    "# Test Case 4: Tepat Waktu\n",
    "hasil4 = prediksi_kehadiran(\n",
    "    hari_string='Wednesday',\n",
    "    jam_jadwal='09:00:00',\n",
    "    jam_masuk='09:00:00',  # Tepat waktu\n",
    "    kondisi_cuaca='Clear'\n",
    ")\n",
    "print_hasil_prediksi('Test 4: Tepat Waktu', hasil4)\n",
    "\n",
    "# Test Case 5: Terlambat dalam Toleransi (Hujan)\n",
    "hasil5 = prediksi_kehadiran(\n",
    "    hari_string='Wednesday',\n",
    "    jam_jadwal='09:00:00',\n",
    "    jam_masuk='09:02:00',  # 2 menit terlambat\n",
    "    kondisi_cuaca='Rain'\n",
    ")\n",
    "print_hasil_prediksi('Test 5: Terlambat dalam Toleransi (Hujan)', hasil5)\n",
    "\n",
    "# Test Case 6: Terlambat Melebihi Toleransi (Hujan)\n",
    "hasil6 = prediksi_kehadiran(\n",
    "    hari_string='Wednesday',\n",
    "    jam_jadwal='09:00:00',\n",
    "    jam_masuk='09:06:00',  # 6 menit terlambat\n",
    "    kondisi_cuaca='Rain'\n",
    ")\n",
    "print_hasil_prediksi('Test 6: Terlambat Melebihi Toleransi (Hujan)', hasil6)"
   ]
  }
 ],
 "metadata": {
  "colab": {
   "provenance": [],
   "toc_visible": true
  },
  "kernelspec": {
   "display_name": "venv310",
   "language": "python",
   "name": "python3"
  },
  "language_info": {
   "codemirror_mode": {
    "name": "ipython",
    "version": 3
   },
   "file_extension": ".py",
   "mimetype": "text/x-python",
   "name": "python",
   "nbconvert_exporter": "python",
   "pygments_lexer": "ipython3",
   "version": "3.10.8"
  }
 },
 "nbformat": 4,
 "nbformat_minor": 0
}
